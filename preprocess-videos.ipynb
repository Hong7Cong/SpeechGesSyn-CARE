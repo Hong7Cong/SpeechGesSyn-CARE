{
 "cells": [
  {
   "cell_type": "code",
   "execution_count": null,
   "id": "e9b27771",
   "metadata": {},
   "outputs": [],
   "source": [
    "from glob import glob\n",
    "\n",
    "glob()"
   ]
  }
 ],
 "metadata": {
  "kernelspec": {
   "display_name": "moose",
   "language": "python",
   "name": "python3"
  },
  "language_info": {
   "name": "python",
   "version": "3.9.18"
  }
 },
 "nbformat": 4,
 "nbformat_minor": 5
}
